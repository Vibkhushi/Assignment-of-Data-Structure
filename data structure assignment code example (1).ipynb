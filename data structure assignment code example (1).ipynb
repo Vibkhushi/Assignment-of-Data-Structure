{
 "cells": [
  {
   "cell_type": "code",
   "execution_count": null,
   "id": "9d8095d3-cb00-4d34-9d7b-cab922394158",
   "metadata": {},
   "outputs": [],
   "source": [
    "#Q.No 1- Discuss string slicing and providing example."
   ]
  },
  {
   "cell_type": "code",
   "execution_count": 12,
   "id": "219e4f1f-e024-4d04-b35e-8324e5f0157f",
   "metadata": {},
   "outputs": [
    {
     "name": "stdout",
     "output_type": "stream",
     "text": [
      "string slicing\n"
     ]
    }
   ],
   "source": [
    "str=\"string slicing\"\n",
    "print(str[:])"
   ]
  },
  {
   "cell_type": "code",
   "execution_count": 13,
   "id": "943141ff-3fd7-45c4-99dc-f70a8824dd4a",
   "metadata": {},
   "outputs": [
    {
     "name": "stdout",
     "output_type": "stream",
     "text": [
      "ng sli\n"
     ]
    }
   ],
   "source": [
    "print(str[4:10])"
   ]
  },
  {
   "cell_type": "code",
   "execution_count": 16,
   "id": "d2f3ba88-bd35-4cf1-867a-6110f3f1796b",
   "metadata": {},
   "outputs": [
    {
     "name": "stdout",
     "output_type": "stream",
     "text": [
      "rn lcn\n"
     ]
    }
   ],
   "source": [
    "print(str[2:14:2])"
   ]
  },
  {
   "cell_type": "code",
   "execution_count": 18,
   "id": "d4aed935-c24b-4e60-8de1-955e9383cc85",
   "metadata": {},
   "outputs": [
    {
     "name": "stdout",
     "output_type": "stream",
     "text": [
      "li\n"
     ]
    }
   ],
   "source": [
    "print(str[8:25:3])"
   ]
  },
  {
   "cell_type": "code",
   "execution_count": 19,
   "id": "ac77668b-9998-46c1-91fe-ba7fd0310964",
   "metadata": {},
   "outputs": [
    {
     "name": "stdout",
     "output_type": "stream",
     "text": [
      "0\n"
     ]
    }
   ],
   "source": [
    "#Q.No. 2 Example of key feature of list in python\n",
    "#Define a list \n",
    "#index method \n",
    "\n",
    "\n",
    "z= [4,1,5,4,10,4]\n",
    "print(z.index(4))"
   ]
  },
  {
   "cell_type": "code",
   "execution_count": 21,
   "id": "46956098-11e8-4462-8587-3614768f75cc",
   "metadata": {},
   "outputs": [
    {
     "name": "stdout",
     "output_type": "stream",
     "text": [
      "3\n"
     ]
    }
   ],
   "source": [
    "print(z.index(4,3))"
   ]
  },
  {
   "cell_type": "code",
   "execution_count": 22,
   "id": "f5e074c9-dc23-4c77-880a-0f020fd78773",
   "metadata": {},
   "outputs": [
    {
     "data": {
      "text/plain": [
       "1"
      ]
     },
     "execution_count": 22,
     "metadata": {},
     "output_type": "execute_result"
    }
   ],
   "source": [
    "#Count Method\n",
    "\n",
    "random_list = [4,1,5,4,10,4]\n",
    "random_list.count(5)"
   ]
  },
  {
   "cell_type": "code",
   "execution_count": 23,
   "id": "5f472f55-2e3a-47cc-bfbb-649a48c9dd55",
   "metadata": {},
   "outputs": [
    {
     "name": "stdout",
     "output_type": "stream",
     "text": [
      "[2, 3, 4, 7]\n"
     ]
    }
   ],
   "source": [
    "#sort Method \n",
    "\n",
    "\n",
    "z=[3,7,4,2]\n",
    "z.sort()\n",
    "print(z)"
   ]
  },
  {
   "cell_type": "code",
   "execution_count": 24,
   "id": "612b1a22-aae4-4777-b779-844025034fee",
   "metadata": {},
   "outputs": [
    {
     "name": "stdout",
     "output_type": "stream",
     "text": [
      "[7, 4, 3, 2, 3]\n"
     ]
    }
   ],
   "source": [
    "#Append Method \n",
    "\n",
    "z=[7,4,3,2]\n",
    "z.append(3)\n",
    "print(z)"
   ]
  },
  {
   "cell_type": "code",
   "execution_count": 28,
   "id": "e84ce4b0-a8db-40b6-847d-fec4927c75ef",
   "metadata": {},
   "outputs": [
    {
     "name": "stdout",
     "output_type": "stream",
     "text": [
      "[7, 4, 3, 3]\n"
     ]
    }
   ],
   "source": [
    "#Remove Method\n",
    "\n",
    "z= [7,4,3,2,3]\n",
    "z.remove(2)\n",
    "print(z)"
   ]
  },
  {
   "cell_type": "code",
   "execution_count": 1,
   "id": "17fa23bc-924d-497f-a4a1-ab1a3b5041b8",
   "metadata": {},
   "outputs": [
    {
     "name": "stdout",
     "output_type": "stream",
     "text": [
      "4\n",
      "[7, 3, 3]\n"
     ]
    }
   ],
   "source": [
    "#pop Method\n",
    "# The pop method removes an item at the you provide.\n",
    "#This method will also return the item you removed from the list.\n",
    "\n",
    "\n",
    "z=[7,4,3,3]\n",
    "print(z.pop(1))\n",
    "print(z)"
   ]
  },
  {
   "cell_type": "code",
   "execution_count": 2,
   "id": "56824640-8db8-43e0-9f2a-13aa733d74cd",
   "metadata": {},
   "outputs": [
    {
     "name": "stdout",
     "output_type": "stream",
     "text": [
      "[7, 3, 3, 4, 5]\n"
     ]
    }
   ],
   "source": [
    "#Extend Method \n",
    "\n",
    "\n",
    "z=[7,3,3]\n",
    "z.extend([4,5])\n",
    "print(z)"
   ]
  },
  {
   "cell_type": "code",
   "execution_count": 3,
   "id": "561b894b-ba01-498f-bbe4-741e80ed03a8",
   "metadata": {},
   "outputs": [
    {
     "name": "stdout",
     "output_type": "stream",
     "text": [
      "[1, 2, 3, 4]\n"
     ]
    }
   ],
   "source": [
    "print([1,2]+[3,4])"
   ]
  },
  {
   "cell_type": "code",
   "execution_count": 4,
   "id": "6a6971a5-fe7b-4216-97ff-f75e8dc3aa75",
   "metadata": {},
   "outputs": [
    {
     "name": "stdout",
     "output_type": "stream",
     "text": [
      "[7, 3, 3, 4, [1, 2], 5]\n"
     ]
    }
   ],
   "source": [
    "#Insert Method\n",
    "\n",
    "z=[7,3,3,4,5]\n",
    "z.insert(4,[1,2])\n",
    "print(z)"
   ]
  },
  {
   "cell_type": "code",
   "execution_count": 5,
   "id": "8583b90b-74e6-4cb2-a4f8-46592eeec007",
   "metadata": {},
   "outputs": [
    {
     "name": "stdout",
     "output_type": "stream",
     "text": [
      "banana\n"
     ]
    }
   ],
   "source": [
    "#Q.No.3- how to access, modify and delete element in a list.\n",
    "\n",
    "\n",
    "fruits=['apple', 'banana', 'cherry']\n",
    "#Access the second element\n",
    "second_fruit= fruits[1]\n",
    "print(second_fruit)\n"
   ]
  },
  {
   "cell_type": "code",
   "execution_count": 7,
   "id": "83b47671-c345-402f-ac3c-3afc255f369d",
   "metadata": {},
   "outputs": [
    {
     "name": "stdout",
     "output_type": "stream",
     "text": [
      "['apple', 'orange', 'cherry']\n"
     ]
    }
   ],
   "source": [
    "#Modifying Elements in a list\n",
    "#Modify anelement by assigning a new value to a specific index.\n",
    "\n",
    "fruits =['apple','banana','cherry']\n",
    "#Change 'banana' to 'orange'\n",
    "fruits[1]= 'orange'\n",
    "print(fruits)"
   ]
  },
  {
   "cell_type": "code",
   "execution_count": 8,
   "id": "aab67d61-3521-465f-9486-7b28e15d866f",
   "metadata": {},
   "outputs": [
    {
     "name": "stdout",
     "output_type": "stream",
     "text": [
      "['apple', 'cherry']\n"
     ]
    }
   ],
   "source": [
    "#Deleting Elements from a list \n",
    " \n",
    "fruits = ['apple','orange','cherry']\n",
    "#delete the second element\n",
    "del fruits[1]\n",
    "print(fruits)\n"
   ]
  },
  {
   "cell_type": "code",
   "execution_count": 10,
   "id": "9f995aa3-5562-4144-a1c9-06f9cfe5693d",
   "metadata": {},
   "outputs": [
    {
     "name": "stdout",
     "output_type": "stream",
     "text": [
      "['apple', 'cherry']\n"
     ]
    }
   ],
   "source": [
    "\n",
    "fruits = ['apple','orange','cherry']\n",
    "#Remove 'orange'\n",
    "fruits.remove('orange')\n",
    "print(fruits)"
   ]
  },
  {
   "cell_type": "code",
   "execution_count": 18,
   "id": "1f08696c-d736-4299-aabb-5041fef3c8eb",
   "metadata": {},
   "outputs": [
    {
     "name": "stdout",
     "output_type": "stream",
     "text": [
      "Original list [1, 2, 3, 4, 4, 3, 3, 3, 6, 5]\n",
      "Example to show mutablity [1, 2, 3, 77, 4, 3, 3, 3, 6, 5]\n"
     ]
    }
   ],
   "source": [
    "#Q.No.4-  Compare and contrast Tuple and List with example.\n",
    "\n",
    "#Creating a list with \n",
    "#the use of Numbers\n",
    "#code to test that tuples are mutable \n",
    "\n",
    "List =[1,2,3,4,4,3,3,3,6,5]\n",
    "print(\"Original list\",List)\n",
    " \n",
    "List[3] = 77 \n",
    "print(\"Example to show mutablity\",List)"
   ]
  },
  {
   "cell_type": "code",
   "execution_count": 19,
   "id": "c26cfc78-7f87-4a90-ab6e-7d4ca18b43bc",
   "metadata": {},
   "outputs": [
    {
     "ename": "TypeError",
     "evalue": "'tuple' object does not support item assignment",
     "output_type": "error",
     "traceback": [
      "\u001b[0;31m---------------------------------------------------------------------------\u001b[0m",
      "\u001b[0;31mTypeError\u001b[0m                                 Traceback (most recent call last)",
      "Cell \u001b[0;32mIn[19], line 4\u001b[0m\n\u001b[1;32m      1\u001b[0m \u001b[38;5;66;03m#code to test that tuples are immutable\u001b[39;00m\n\u001b[1;32m      3\u001b[0m tuple1 \u001b[38;5;241m=\u001b[39m (\u001b[38;5;241m0\u001b[39m,\u001b[38;5;241m1\u001b[39m,\u001b[38;5;241m2\u001b[39m,\u001b[38;5;241m3\u001b[39m)\n\u001b[0;32m----> 4\u001b[0m \u001b[43mtuple1\u001b[49m\u001b[43m[\u001b[49m\u001b[38;5;241;43m0\u001b[39;49m\u001b[43m]\u001b[49m \u001b[38;5;241m=\u001b[39m \u001b[38;5;241m4\u001b[39m \n\u001b[1;32m      5\u001b[0m \u001b[38;5;28mprint\u001b[39m(tuple1)\n",
      "\u001b[0;31mTypeError\u001b[0m: 'tuple' object does not support item assignment"
     ]
    }
   ],
   "source": [
    "#code to test that tuples are immutable\n",
    "\n",
    "tuple1 = (0,1,2,3)\n",
    "tuple1[0] = 4 \n",
    "print(tuple1)"
   ]
  },
  {
   "cell_type": "code",
   "execution_count": null,
   "id": "f30ff9fe-0f01-44a2-9b06-542948026aec",
   "metadata": {},
   "outputs": [],
   "source": [
    "#Q.No.5- Describe the key feature sets  and provide example of their use."
   ]
  },
  {
   "cell_type": "code",
   "execution_count": 3,
   "id": "62c570dc-a932-4b2c-9f81-af680045f9fd",
   "metadata": {},
   "outputs": [
    {
     "name": "stdout",
     "output_type": "stream",
     "text": [
      "student ID: {112, 114, 115, 116, 118}\n",
      "Vowel letters: {'e', 'i', 'o', 'u', 'a'}\n",
      "set of mixed data types: {'Hello', 101, -2, 'Bye'}\n"
     ]
    }
   ],
   "source": [
    "#create a set of integer type \n",
    "student_id = {112,114,116,118,115}\n",
    "print('student ID:',student_id)\n",
    "\n",
    "#create a set of string type\n",
    "vowel_letters = {'a','e','i','o','u'}\n",
    "print ('Vowel letters:', vowel_letters)\n",
    "\n",
    "#create a set of mixed data types \n",
    "mixed_set ={'Hello', 101,-2,'Bye'}\n",
    "print('set of mixed data types:',mixed_set)\n"
   ]
  },
  {
   "cell_type": "code",
   "execution_count": 3,
   "id": "6cb7bf03-4143-4314-93b5-72e50f2d3f7c",
   "metadata": {},
   "outputs": [
    {
     "name": "stdout",
     "output_type": "stream",
     "text": [
      "Data type of empty_set: <class 'set'>\n",
      "Data type of dictionary_set\n",
      "Data type of empty_ditonary: <class 'dict'>\n"
     ]
    }
   ],
   "source": [
    "# Example of Empty set\n",
    "\n",
    "#crete an empty set\n",
    "empty_set = set()\n",
    " \n",
    "#create an empty dictionary \n",
    "empty_dictionary = {}\n",
    "\n",
    "#check data type of empty_set\n",
    "print('Data type of empty_set:',type(empty_set))\n",
    "\n",
    "#check data type of dictionary_set \n",
    "print('Data type of dictionary_set')\n",
    "print('Data type of empty_ditonary:',type(empty_dictionary))\n",
    "    "
   ]
  },
  {
   "cell_type": "code",
   "execution_count": 13,
   "id": "a734d710-c372-439a-b015-d8b7655742f9",
   "metadata": {},
   "outputs": [
    {
     "name": "stdout",
     "output_type": "stream",
     "text": [
      "{'one': 1, 'two': 2}\n"
     ]
    }
   ],
   "source": [
    "#Q.No-7- How to add ,modify and delete items in a dictinary with examples.\n",
    "\n",
    "#example of ADD\n",
    "\n",
    "my_dictionary={\n",
    "    \"one\":1,\n",
    "    \"two\":2\n",
    "}\n",
    "print(my_dictionary)\n"
   ]
  },
  {
   "cell_type": "code",
   "execution_count": 15,
   "id": "6d090532-3970-41c2-b69f-e17c85a2c0a7",
   "metadata": {},
   "outputs": [
    {
     "name": "stdout",
     "output_type": "stream",
     "text": [
      "{'a': 1, 'b': 3, 'c': 4}\n"
     ]
    }
   ],
   "source": [
    "# Example of modify\n",
    "\n",
    "dict1={'a':1,'b':2}\n",
    "dict1.update ({'b':3,'c':4})\n",
    "print(dict1)"
   ]
  },
  {
   "cell_type": "code",
   "execution_count": 16,
   "id": "85fa81a7-c0a0-4423-8e2b-3791b20ec92a",
   "metadata": {},
   "outputs": [
    {
     "name": "stdout",
     "output_type": "stream",
     "text": [
      "{'apple': 2, 'cherry': 4}\n"
     ]
    }
   ],
   "source": [
    "#example of delete\n",
    "\n",
    "my_dict={'apple':2,'banana':3,'cherry':4}\n",
    "del my_dict['banana']\n",
    "print(my_dict)"
   ]
  }
 ],
 "metadata": {
  "kernelspec": {
   "display_name": "Python 3 (ipykernel)",
   "language": "python",
   "name": "python3"
  },
  "language_info": {
   "codemirror_mode": {
    "name": "ipython",
    "version": 3
   },
   "file_extension": ".py",
   "mimetype": "text/x-python",
   "name": "python",
   "nbconvert_exporter": "python",
   "pygments_lexer": "ipython3",
   "version": "3.10.8"
  }
 },
 "nbformat": 4,
 "nbformat_minor": 5
}
